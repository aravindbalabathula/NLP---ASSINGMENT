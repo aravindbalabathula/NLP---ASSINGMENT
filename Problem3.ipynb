{
 "cells": [
  {
   "cell_type": "markdown",
   "id": "6c389b94-d718-4fa1-9e50-6edc6d0e811b",
   "metadata": {},
   "source": [
    "# Disambiguation: Mouse vs Mouse\n"
   ]
  },
  {
   "cell_type": "code",
   "execution_count": 1,
   "id": "987a24cf-93e2-4a05-94c9-88f1754ca529",
   "metadata": {},
   "outputs": [
    {
     "name": "stdin",
     "output_type": "stream",
     "text": [
      " 2\n",
      " mouses in mouses \n",
      " my mouse was bitten by a mouse\n"
     ]
    },
    {
     "name": "stdout",
     "output_type": "stream",
     "text": [
      "animal\n",
      "animal\n"
     ]
    }
   ],
   "source": [
    "def classify_mouse(sentences):\n",
    "    # Keywords indicating a computer-mouse\n",
    "    computer_keywords = {\"input\", \"device\", \"USB\", \"cursor\", \"click\", \"keyboard\", \"screen\", \"pointer\"}\n",
    "    \n",
    "    # Keywords indicating an animal mouse\n",
    "    animal_keywords = {\"tail\", \"fur\", \"rodent\", \"genome\", \"species\", \"mammal\", \"habitat\", \"postnatal\"}\n",
    "    \n",
    "    results = []\n",
    "    \n",
    "    for sentence in sentences:\n",
    "        sentence = sentence.lower()  # Convert to lowercase\n",
    "        tokens = set(sentence.split())  # Tokenize and remove duplicates\n",
    "        \n",
    "        # Check for keywords\n",
    "        if tokens & computer_keywords:\n",
    "            results.append(\"computer-mouse\")\n",
    "        elif tokens & animal_keywords:\n",
    "            results.append(\"animal\")\n",
    "        else:\n",
    "            # Default classification (if no keywords found)\n",
    "            results.append(\"animal\")\n",
    "    \n",
    "    return results\n",
    "\n",
    "# Input handling\n",
    "if __name__ == \"__main__\":\n",
    "    n = int(input())\n",
    "    sentences = [input().strip() for _ in range(n)]\n",
    "    \n",
    "    # Classify each sentence\n",
    "    outputs = classify_mouse(sentences)\n",
    "    \n",
    "    # Print results\n",
    "    for output in outputs:\n",
    "        print(output)\n"
   ]
  },
  {
   "cell_type": "code",
   "execution_count": null,
   "id": "d9cef108-6ed0-401f-a8d7-d5eef29c5d77",
   "metadata": {},
   "outputs": [],
   "source": []
  }
 ],
 "metadata": {
  "kernelspec": {
   "display_name": "Python 3 (ipykernel)",
   "language": "python",
   "name": "python3"
  },
  "language_info": {
   "codemirror_mode": {
    "name": "ipython",
    "version": 3
   },
   "file_extension": ".py",
   "mimetype": "text/x-python",
   "name": "python",
   "nbconvert_exporter": "python",
   "pygments_lexer": "ipython3",
   "version": "3.11.9"
  }
 },
 "nbformat": 4,
 "nbformat_minor": 5
}
