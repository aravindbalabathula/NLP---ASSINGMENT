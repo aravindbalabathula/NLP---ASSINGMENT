{
 "cells": [
  {
   "cell_type": "markdown",
   "id": "81a16caa-f4dd-437e-8e71-dd686eecf48f",
   "metadata": {},
   "source": [
    "# Deterministic Url and HashTag Segmentation"
   ]
  },
  {
   "cell_type": "code",
   "execution_count": 4,
   "id": "9a85e8b8-1a89-4e8b-a0c3-f2defe95c448",
   "metadata": {},
   "outputs": [
    {
     "name": "stdin",
     "output_type": "stream",
     "text": [
      " 3\n",
      " #letusgo  \n",
      " www.whatismyname.com  \n",
      " #isittime \n"
     ]
    },
    {
     "name": "stdout",
     "output_type": "stream",
     "text": [
      "let us go\n",
      "whatismyname\n",
      "i sit time\n"
     ]
    }
   ],
   "source": [
    "import re\n",
    "\n",
    "def load_words(file_path):\n",
    "    \"\"\"Load the list of valid words from words.txt.\"\"\"\n",
    "    with open(file_path, 'r') as f:\n",
    "        return set(word.strip().lower() for word in f)\n",
    "\n",
    "def is_number(s):\n",
    "    \"\"\"Check if a string is a valid number (integer or decimal).\"\"\"\n",
    "    return re.match(r'^\\d+(\\.\\d+)?$', s) is not None\n",
    "\n",
    "def segment_string(s, words):\n",
    "    \"\"\"Segment the string into tokens using the provided words and numbers.\"\"\"\n",
    "    n = len(s)\n",
    "    dp = [None] * (n + 1)  # dp[i] stores the tokens for s[:i]\n",
    "    dp[0] = []\n",
    "\n",
    "    for i in range(1, n + 1):\n",
    "        for j in range(i):\n",
    "            token = s[j:i]\n",
    "            if token in words or is_number(token):\n",
    "                if dp[j] is not None:\n",
    "                    dp[i] = dp[j] + [token]\n",
    "                    break\n",
    "\n",
    "    return dp[n]\n",
    "\n",
    "def clean_input(s):\n",
    "    \"\"\"Clean the input string by removing prefixes and extensions.\"\"\"\n",
    "    s = s.lower()\n",
    "    # Remove www. and extensions for domain names\n",
    "    s = re.sub(r'^www\\.|(\\.com|\\.org|\\.edu|\\.in)$', '', s)\n",
    "    # Remove hashtag symbol\n",
    "    s = s.lstrip('#')\n",
    "    return s\n",
    "\n",
    "def process_input(inputs, words):\n",
    "    \"\"\"Process each input string and return its segmented version.\"\"\"\n",
    "    results = []\n",
    "    for s in inputs:\n",
    "        cleaned = clean_input(s)\n",
    "        segmented = segment_string(cleaned, words)\n",
    "        if segmented:\n",
    "            results.append(' '.join(segmented))\n",
    "        else:\n",
    "            results.append(cleaned)  # Return original if segmentation fails\n",
    "    return results\n",
    "\n",
    "# Main Execution\n",
    "if __name__ == \"__main__\":\n",
    "    # Load dictionary of words\n",
    "    words = load_words('words.txt')\n",
    "\n",
    "    # Sample input\n",
    "    num_cases = int(input())\n",
    "    inputs = [input().strip() for _ in range(num_cases)]\n",
    "\n",
    "    # Process each input\n",
    "    outputs = process_input(inputs, words)\n",
    "\n",
    "    # Print the outputs\n",
    "    for output in outputs:\n",
    "        print(output)\n"
   ]
  },
  {
   "cell_type": "code",
   "execution_count": null,
   "id": "55c57621-c404-4d0c-80f4-8f4779404519",
   "metadata": {},
   "outputs": [],
   "source": []
  }
 ],
 "metadata": {
  "kernelspec": {
   "display_name": "Python 3 (ipykernel)",
   "language": "python",
   "name": "python3"
  },
  "language_info": {
   "codemirror_mode": {
    "name": "ipython",
    "version": 3
   },
   "file_extension": ".py",
   "mimetype": "text/x-python",
   "name": "python",
   "nbconvert_exporter": "python",
   "pygments_lexer": "ipython3",
   "version": "3.11.9"
  }
 },
 "nbformat": 4,
 "nbformat_minor": 5
}
