{
 "cells": [
  {
   "cell_type": "markdown",
   "id": "03315326-8814-49a7-842c-e71d7bd4d49a",
   "metadata": {},
   "source": [
    "# Expand the Acronyms\n"
   ]
  },
  {
   "cell_type": "code",
   "execution_count": 5,
   "id": "a7def66d-c6c5-49d0-8c9b-0337704bccba",
   "metadata": {},
   "outputs": [
    {
     "name": "stdout",
     "output_type": "stream",
     "text": [
      "Expansion not found\n",
      "Expansion not found\n",
      "Expansion not found\n",
      "Expansion not found\n",
      "Expansion not found\n",
      "Expansion not found\n",
      "Expansion not found\n",
      "Expansion not found\n",
      "Expansion not found\n",
      "Expansion not found\n",
      "Expansion not found\n"
     ]
    }
   ],
   "source": [
    "import re\n",
    "\n",
    "def extract_acronyms_and_expansions(snippets):\n",
    "    acronym_dict = {}\n",
    "    for snippet in snippets:\n",
    "        # Match patterns like \"expansion (ACRONYM)\"\n",
    "        matches = re.findall(r'([A-Z][\\w\\s]+)\\s*\\(([A-Z]+)\\)', snippet)\n",
    "        for expansion, acronym in matches:\n",
    "            acronym_dict[acronym] = expansion.strip()\n",
    "\n",
    "        # Handle standalone acronyms (e.g., \"NUS is ...\")\n",
    "        words = snippet.split()\n",
    "        for i, word in enumerate(words):\n",
    "            if word.isupper() and len(word) > 1:  # Likely an acronym\n",
    "                if word not in acronym_dict:\n",
    "                    # Try to infer the expansion from nearby words\n",
    "                    before = \" \".join(words[max(0, i-5):i])\n",
    "                    after = \" \".join(words[i+1:i+6])\n",
    "                    inferred_expansion = re.search(r'\\b[A-Z][\\w\\s]+', before + \" \" + after)\n",
    "                    if inferred_expansion:\n",
    "                        acronym_dict[word] = inferred_expansion.group(0).strip()\n",
    "\n",
    "    return acronym_dict\n",
    "\n",
    "def main():\n",
    "    # Input parsing\n",
    "    \n",
    "    input_data = \"2 \\n helo \\n sdf\"\n",
    "    \n",
    "    # Validate input\n",
    "    if not input_data or not input_data[0].isdigit():\n",
    "        print(\"Invalid input: First line must contain the number of snippets.\")\n",
    "        return\n",
    "    \n",
    "    N = int(input_data[0])  # Number of snippets\n",
    "\n",
    "    if len(input_data) < N + 1:\n",
    "        print(\"Invalid input: Not enough lines for the number of snippets specified.\")\n",
    "        return\n",
    "    \n",
    "    snippets = input_data[1:N+1]\n",
    "    tests = input_data[N+1:]  # Acronyms to expand\n",
    "\n",
    "    # Extract acronyms and expansions\n",
    "    acronym_dict = extract_acronyms_and_expansions(snippets)\n",
    "\n",
    "    # Output expansions for test cases\n",
    "    for test in tests:\n",
    "        print(acronym_dict.get(test, \"Expansion not found\"))\n",
    "\n",
    "if __name__ == \"__main__\":\n",
    "    main()\n"
   ]
  },
  {
   "cell_type": "code",
   "execution_count": null,
   "id": "712d9a91-d578-45c3-9b13-21b067fed012",
   "metadata": {},
   "outputs": [],
   "source": []
  }
 ],
 "metadata": {
  "kernelspec": {
   "display_name": "Python 3 (ipykernel)",
   "language": "python",
   "name": "python3"
  },
  "language_info": {
   "codemirror_mode": {
    "name": "ipython",
    "version": 3
   },
   "file_extension": ".py",
   "mimetype": "text/x-python",
   "name": "python",
   "nbconvert_exporter": "python",
   "pygments_lexer": "ipython3",
   "version": "3.11.9"
  }
 },
 "nbformat": 4,
 "nbformat_minor": 5
}
