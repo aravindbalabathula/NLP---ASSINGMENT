{
 "cells": [
  {
   "cell_type": "markdown",
   "id": "e8b33b96-37ea-4164-a985-5dbe68fe1247",
   "metadata": {},
   "source": [
    "# The Missing Apostrophes\n"
   ]
  },
  {
   "cell_type": "code",
   "execution_count": 5,
   "id": "7ca16597-0f04-4aae-8945-421539c99c6d",
   "metadata": {},
   "outputs": [
    {
     "name": "stdout",
     "output_type": "stream",
     "text": [
      "I've\n"
     ]
    }
   ],
   "source": [
    "import re\n",
    "\n",
    "# Common contractions and possessives\n",
    "contractions = {\n",
    "    \"im\": \"I'm\", \"ive\": \"I've\", \"id\": \"I'd\", \"ill\": \"I'll\",\n",
    "    \"isnt\": \"isn't\", \"arent\": \"aren't\", \"wasnt\": \"wasn't\", \"werent\": \"weren't\",\n",
    "    \"dont\": \"don't\", \"doesnt\": \"doesn't\", \"didnt\": \"didn't\",\n",
    "    \"cant\": \"can't\", \"couldnt\": \"couldn't\", \"wouldnt\": \"wouldn't\", \"shouldnt\": \"shouldn't\",\n",
    "    \"its\": \"it's\", \"lets\": \"let's\", \"thats\": \"that's\", \"whats\": \"what's\",\n",
    "    \"heres\": \"here's\", \"theres\": \"there's\", \"wheres\": \"where's\", \"whos\": \"who's\",\n",
    "    \"youd\": \"you'd\", \"youre\": \"you're\", \"youve\": \"you've\",\n",
    "    \"theyre\": \"they're\", \"theyve\": \"they've\", \"theyd\": \"they'd\",\n",
    "    \"weve\": \"we've\", \"were\": \"we're\", \"well\": \"we'll\"\n",
    "}\n",
    "\n",
    "def insert_apostrophes(text):\n",
    "    # Tokenize the text\n",
    "    words = text.split()\n",
    "    \n",
    "    # Handle contractions\n",
    "    result = []\n",
    "    for word in words:\n",
    "        # Handle simple contractions\n",
    "        lower_word = word.lower().strip(\",.?!;\")\n",
    "        if lower_word in contractions:\n",
    "            result.append(contractions[lower_word])\n",
    "        # Handle possessives\n",
    "        elif re.match(r\"^[a-zA-Z]+s$\", word) and word.lower() != \"its\":\n",
    "            # Likely a possessive\n",
    "            result.append(word[:-1] + \"'s\")\n",
    "        else:\n",
    "            result.append(word)\n",
    "    \n",
    "    # Join the text back\n",
    "    return \" \".join(result)\n",
    "\n",
    "# Input handling\n",
    "if __name__ == \"__main__\":\n",
    "    import sys\n",
    "    # Read input paragraph\n",
    "    text = sys.stdin.read().strip()\n",
    "    \n",
    "    text = \"Ive\"\n",
    "    corrected_text = insert_apostrophes(text)\n",
    "    \n",
    "    # Print the corrected text\n",
    "    print(corrected_text)\n"
   ]
  },
  {
   "cell_type": "code",
   "execution_count": null,
   "id": "60be33d9-57ed-45d9-8a51-b20d2687d1fb",
   "metadata": {},
   "outputs": [],
   "source": []
  }
 ],
 "metadata": {
  "kernelspec": {
   "display_name": "Python 3 (ipykernel)",
   "language": "python",
   "name": "python3"
  },
  "language_info": {
   "codemirror_mode": {
    "name": "ipython",
    "version": 3
   },
   "file_extension": ".py",
   "mimetype": "text/x-python",
   "name": "python",
   "nbconvert_exporter": "python",
   "pygments_lexer": "ipython3",
   "version": "3.11.9"
  }
 },
 "nbformat": 4,
 "nbformat_minor": 5
}
