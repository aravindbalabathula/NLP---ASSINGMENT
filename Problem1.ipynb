{
 "cells": [
  {
   "cell_type": "markdown",
   "id": "14e1153f-9989-4e0c-8cb0-016b012605fd",
   "metadata": {},
   "source": [
    "## Correct the Search Query"
   ]
  },
  {
   "cell_type": "markdown",
   "id": "2f4d41f3-0ee6-45ca-b0c8-8f86430a9a9d",
   "metadata": {},
   "source": [
    "### Key Topics\n",
    "\n",
    "### 1) Levenshtein distance\n",
    "\n",
    "        The Levenshtein distance (also known as edit distance) is a metric used to measure the difference between two strings. Specifically, it calculates the minimum number of edit operations required to transform one string into another. The allowed operations are:\n",
    "    \n",
    "        Insertion: Adding a character to the string.\n",
    "        Deletion: Removing a character from the string.\n",
    "        Substitution: Replacing one character in the string with another.\n",
    "        Example:\n",
    "        For example, to convert the word \"kitten\" to \"sitting\", the Levenshtein distance is 3 because:\n",
    "        \n",
    "        Replace 'k' with 's' → \"sitten\"\n",
    "        Insert 'i' → \"sittin\"\n",
    "        Insert 'g' → \"sitting\"\n",
    "        So, the Levenshtein distance between \"kitten\" and \"sitting\" is 3.\n",
    "\n",
    "    - "
   ]
  },
  {
   "cell_type": "code",
   "execution_count": 3,
   "id": "0fb9f7e3-f0d6-4609-a093-6ef311eb25c8",
   "metadata": {},
   "outputs": [
    {
     "name": "stdin",
     "output_type": "stream",
     "text": [
      " 2\n",
      " gng\n"
     ]
    },
    {
     "name": "stdout",
     "output_type": "stream",
     "text": [
      "going\n"
     ]
    },
    {
     "name": "stdin",
     "output_type": "stream",
     "text": [
      " pesdnt\n"
     ]
    },
    {
     "name": "stdout",
     "output_type": "stream",
     "text": [
      "president\n"
     ]
    }
   ],
   "source": [
    "import zlib\n",
    "import pickle\n",
    "\n",
    "# Build or load a dictionary of common English words\n",
    "# For simplicity, we assume a small dictionary. In practice, you could load a much larger dictionary.\n",
    "dictionary = set([\n",
    "    \"going\", \"to\", \"china\", \"who\", \"was\", \"the\", \"first\", \"president\", \"of\", \n",
    "    \"india\", \"winner\", \"match\", \"food\", \"america\"\n",
    "])\n",
    "\n",
    "# Levenshtein distance function\n",
    "def levenshtein_distance(word1, word2):\n",
    "    m, n = len(word1), len(word2)\n",
    "    dp = [[0] * (n + 1) for _ in range(m + 1)]\n",
    "\n",
    "    for i in range(m + 1):\n",
    "        for j in range(n + 1):\n",
    "            if i == 0:\n",
    "                dp[i][j] = j\n",
    "            elif j == 0:\n",
    "                dp[i][j] = i\n",
    "            elif word1[i - 1] == word2[j - 1]:\n",
    "                dp[i][j] = dp[i - 1][j - 1]\n",
    "            else:\n",
    "                dp[i][j] = 1 + min(dp[i - 1][j - 1], dp[i][j - 1], dp[i - 1][j])\n",
    "\n",
    "    return dp[m][n]\n",
    "\n",
    "# Function to find the closest word from the dictionary based on Levenshtein distance\n",
    "def correct_word(word):\n",
    "    min_distance = float('inf')\n",
    "    corrected_word = word\n",
    "    for dict_word in dictionary:\n",
    "        dist = levenshtein_distance(word, dict_word)\n",
    "        if dist < min_distance:\n",
    "            min_distance = dist\n",
    "            corrected_word = dict_word\n",
    "    return corrected_word\n",
    "\n",
    "# Function to process and correct a query\n",
    "def correct_query(query):\n",
    "    words = query.split()\n",
    "    corrected_words = [correct_word(word) for word in words]\n",
    "    return \" \".join(corrected_words)\n",
    "\n",
    "# Input reading\n",
    "n = int(input())  # Number of queries\n",
    "for _ in range(n):\n",
    "    query = input().strip()\n",
    "    print(correct_query(query))\n"
   ]
  },
  {
   "cell_type": "code",
   "execution_count": null,
   "id": "6e9366b4-621f-4173-9063-0721cca26a56",
   "metadata": {},
   "outputs": [],
   "source": []
  }
 ],
 "metadata": {
  "kernelspec": {
   "display_name": "Python 3 (ipykernel)",
   "language": "python",
   "name": "python3"
  },
  "language_info": {
   "codemirror_mode": {
    "name": "ipython",
    "version": 3
   },
   "file_extension": ".py",
   "mimetype": "text/x-python",
   "name": "python",
   "nbconvert_exporter": "python",
   "pygments_lexer": "ipython3",
   "version": "3.11.9"
  }
 },
 "nbformat": 4,
 "nbformat_minor": 5
}
