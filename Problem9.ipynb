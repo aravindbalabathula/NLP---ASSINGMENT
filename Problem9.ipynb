{
 "cells": [
  {
   "cell_type": "markdown",
   "id": "e0477038-14bb-4821-b122-b6d04eee047c",
   "metadata": {},
   "source": [
    "# A Text-Processing Warmup"
   ]
  },
  {
   "cell_type": "code",
   "execution_count": 2,
   "id": "1d1c4f93-963b-4d24-bf49-d2a8d238f2a3",
   "metadata": {},
   "outputs": [
    {
     "name": "stdin",
     "output_type": "stream",
     "text": [
      "Enter the number of test cases:  2\n",
      "Enter the text fragment:  helloworld\n"
     ]
    },
    {
     "name": "stdout",
     "output_type": "stream",
     "text": [
      "0\n",
      "0\n",
      "0\n",
      "0\n"
     ]
    },
    {
     "name": "stdin",
     "output_type": "stream",
     "text": [
      "Enter the text fragment:  the apple\n"
     ]
    },
    {
     "name": "stdout",
     "output_type": "stream",
     "text": [
      "0\n",
      "0\n",
      "1\n",
      "0\n"
     ]
    }
   ],
   "source": [
    "import re\n",
    "\n",
    "def count_articles_and_dates(text):\n",
    "    # Regular expressions for articles\n",
    "    article_a = r'\\ba\\b'\n",
    "    article_an = r'\\ban\\b'\n",
    "    article_the = r'\\bthe\\b'\n",
    "    \n",
    "    # Regular expressions for dates\n",
    "    date_pattern = r'(\\d{1,2}(?:st|nd|rd|th)?(?:\\s)?(?:[A-Za-z]+|\\d{1,2})(?:,?\\s?\\d{2,4})?)|([A-Za-z]+(?:\\s)?\\d{1,2}(?:st|nd|rd|th)?(?:,?\\s?\\d{2,4})?)|(\\d{1,2}\\/\\d{1,2}\\/\\d{2,4})'\n",
    "    \n",
    "    # Count occurrences of articles\n",
    "    count_a = len(re.findall(article_a, text))\n",
    "    count_an = len(re.findall(article_an, text))\n",
    "    count_the = len(re.findall(article_the, text))\n",
    "    \n",
    "    # Count occurrences of dates\n",
    "    count_dates = len(re.findall(date_pattern, text))\n",
    "    \n",
    "    return count_a, count_an, count_the, count_dates\n",
    "\n",
    "# Read the number of test cases\n",
    "T = int(input(\"Enter the number of test cases: \").strip())\n",
    "\n",
    "# For each test case\n",
    "for _ in range(T):\n",
    "    # Read the text fragment\n",
    "    text = input(\"Enter the text fragment: \").strip()\n",
    "    \n",
    "    # Process the fragment\n",
    "    a, an, the, dates = count_articles_and_dates(text)\n",
    "    \n",
    "    # Output the results for the current test case\n",
    "    print(a)\n",
    "    print(an)\n",
    "    print(the)\n",
    "    print(dates)\n"
   ]
  },
  {
   "cell_type": "code",
   "execution_count": null,
   "id": "a614c858-69c9-4d19-bdbc-8385b17e2c4f",
   "metadata": {},
   "outputs": [],
   "source": []
  }
 ],
 "metadata": {
  "kernelspec": {
   "display_name": "Python 3 (ipykernel)",
   "language": "python",
   "name": "python3"
  },
  "language_info": {
   "codemirror_mode": {
    "name": "ipython",
    "version": 3
   },
   "file_extension": ".py",
   "mimetype": "text/x-python",
   "name": "python",
   "nbconvert_exporter": "python",
   "pygments_lexer": "ipython3",
   "version": "3.11.9"
  }
 },
 "nbformat": 4,
 "nbformat_minor": 5
}
