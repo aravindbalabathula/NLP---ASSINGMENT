{
 "cells": [
  {
   "cell_type": "markdown",
   "id": "6b193847-4567-4a27-bf4b-c2834cb3d50a",
   "metadata": {},
   "source": [
    "# Language Detection"
   ]
  },
  {
   "cell_type": "markdown",
   "id": "eebdb872-35c9-4a62-be12-20d9840eaf4b",
   "metadata": {},
   "source": [
    "    - Given a snippet of text in English, French, German, or Spanish, detect the snippet's language and print the language name. You may build an offline model for this. The snippet may contain one or more lines.\n",
    "    \n",
    "    You may make no more than 15 submissions for this problem, during the contest.\n",
    "    \n",
    "    Input Format\n",
    "    \n",
    "    One or more lines of text.\n",
    "    \n",
    "    Constraints\n",
    "    \n",
    "    Output Format\n",
    "    \n",
    "    Print the snippet's language (in Title Case, as written above) on a new line.\n",
    "    \n",
    "    Sample Input"
   ]
  },
  {
   "cell_type": "code",
   "execution_count": 1,
   "id": "0f3d4837-0d00-4c68-9990-aea3b423a681",
   "metadata": {},
   "outputs": [
    {
     "name": "stdout",
     "output_type": "stream",
     "text": [
      "English\n"
     ]
    }
   ],
   "source": [
    "# Offline model: Common words for each language\n",
    "language_words = {\n",
    "    \"English\": {\"the\", \"and\", \"is\", \"of\", \"to\", \"in\", \"a\", \"that\", \"it\"},\n",
    "    \"French\": {\"le\", \"la\", \"et\", \"de\", \"un\", \"une\", \"est\", \"dans\", \"que\"},\n",
    "    \"German\": {\"und\", \"der\", \"die\", \"das\", \"ein\", \"eine\", \"ist\", \"zu\", \"auf\"},\n",
    "    \"Spanish\": {\"el\", \"la\", \"y\", \"de\", \"un\", \"una\", \"es\", \"en\", \"que\"}\n",
    "}\n",
    "\n",
    "def detect_language(text):\n",
    "    # Preprocess text: Convert to lowercase and tokenize\n",
    "    words = text.lower().split()\n",
    "    \n",
    "    # Count matches for each language\n",
    "    scores = {language: 0 for language in language_words}\n",
    "    for language, common_words in language_words.items():\n",
    "        scores[language] = sum(1 for word in words if word in common_words)\n",
    "    \n",
    "    # Determine the language with the highest score\n",
    "    detected_language = max(scores, key=scores.get)\n",
    "    return detected_language\n",
    "\n",
    "# Input handling\n",
    "if __name__ == \"__main__\":\n",
    "    import sys\n",
    "    # Read input text from standard input\n",
    "    text = sys.stdin.read().strip()\n",
    "    \n",
    "    # Detect language\n",
    "    language = detect_language(text)\n",
    "    \n",
    "    # Output the detected language\n",
    "    print(language)\n"
   ]
  },
  {
   "cell_type": "code",
   "execution_count": null,
   "id": "4021179e-fdab-4d2b-83e7-21d4287dd5c7",
   "metadata": {},
   "outputs": [],
   "source": []
  }
 ],
 "metadata": {
  "kernelspec": {
   "display_name": "Python 3 (ipykernel)",
   "language": "python",
   "name": "python3"
  },
  "language_info": {
   "codemirror_mode": {
    "name": "ipython",
    "version": 3
   },
   "file_extension": ".py",
   "mimetype": "text/x-python",
   "name": "python",
   "nbconvert_exporter": "python",
   "pygments_lexer": "ipython3",
   "version": "3.11.9"
  }
 },
 "nbformat": 4,
 "nbformat_minor": 5
}
