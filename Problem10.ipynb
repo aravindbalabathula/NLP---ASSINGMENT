{
 "cells": [
  {
   "cell_type": "markdown",
   "id": "c20ab19e-fd0a-4c89-8d99-ae7d4f3cf437",
   "metadata": {},
   "source": [
    "# Who is it?"
   ]
  },
  {
   "cell_type": "code",
   "execution_count": 3,
   "id": "7ec452ef-e5d7-4383-8725-8091ed48cb3b",
   "metadata": {},
   "outputs": [
    {
     "name": "stdin",
     "output_type": "stream",
     "text": [
      "Enter the number of lines in the text snippet:  2\n"
     ]
    },
    {
     "name": "stdout",
     "output_type": "stream",
     "text": [
      "Enter the text snippet:\n"
     ]
    },
    {
     "name": "stdin",
     "output_type": "stream",
     "text": [
      " this is his hat\n",
      " that is my cat\n",
      "Enter the list of candidates (names/nouns/noun-phrases):  aravind\n"
     ]
    },
    {
     "name": "stdout",
     "output_type": "stream",
     "text": [
      "Resolved pronouns:\n"
     ]
    }
   ],
   "source": [
    "import re\n",
    "\n",
    "def resolve_pronouns(text_lines, candidates):\n",
    "    # Combine the text lines into one single string for easier processing\n",
    "    text = \" \".join(text_lines)\n",
    "    \n",
    "    # Extract pronouns marked with '**'\n",
    "    pronouns = re.findall(r'\\*\\*(he|she|it|his|her|its)\\*\\*', text)\n",
    "    \n",
    "    # Split the candidates by ';' and strip spaces\n",
    "    candidates = [candidate.strip() for candidate in candidates.split(';')]\n",
    "    \n",
    "    # Initialize a list to store the answers\n",
    "    resolution = []\n",
    "    \n",
    "    # Keep track of the last seen candidate (most recent noun phrase)\n",
    "    last_seen = None\n",
    "    \n",
    "    # Tokenize the text to get a sequence of words\n",
    "    words = text.split()\n",
    "    \n",
    "    for word in words:\n",
    "        # Check if the word is a candidate (matches exact string)\n",
    "        if word.strip('*') in candidates:\n",
    "            last_seen = word.strip('*')  # Update last seen candidate\n",
    "        \n",
    "        # For each pronoun, assign the last seen candidate\n",
    "        if word.startswith('**') and word.endswith('**'):\n",
    "            pronoun = word.strip('*')\n",
    "            if pronoun in pronouns:\n",
    "                resolution.append(last_seen)\n",
    "    \n",
    "    return resolution\n",
    "\n",
    "\n",
    "def main():\n",
    "    # Read number of lines in the text\n",
    "    N = int(input(\"Enter the number of lines in the text snippet: \").strip())\n",
    "    \n",
    "    # Read the text lines\n",
    "    text_lines = []\n",
    "    print(\"Enter the text snippet:\")\n",
    "    for _ in range(N):\n",
    "        text_lines.append(input().strip())\n",
    "    \n",
    "    # Read the list of candidates (names/nouns/noun-phrases)\n",
    "    candidates = input(\"Enter the list of candidates (names/nouns/noun-phrases): \").strip()\n",
    "    \n",
    "    # Resolve the pronouns\n",
    "    result = resolve_pronouns(text_lines, candidates)\n",
    "    \n",
    "    # Output the result for each pronoun\n",
    "    print(\"Resolved pronouns:\")\n",
    "    for res in result:\n",
    "        print(res)\n",
    "\n",
    "if __name__ == \"__main__\":\n",
    "    main()\n",
    "\n"
   ]
  },
  {
   "cell_type": "code",
   "execution_count": null,
   "id": "f323c606-6639-4761-a947-69aa909caeb9",
   "metadata": {},
   "outputs": [],
   "source": []
  }
 ],
 "metadata": {
  "kernelspec": {
   "display_name": "Python 3 (ipykernel)",
   "language": "python",
   "name": "python3"
  },
  "language_info": {
   "codemirror_mode": {
    "name": "ipython",
    "version": 3
   },
   "file_extension": ".py",
   "mimetype": "text/x-python",
   "name": "python",
   "nbconvert_exporter": "python",
   "pygments_lexer": "ipython3",
   "version": "3.11.9"
  }
 },
 "nbformat": 4,
 "nbformat_minor": 5
}
