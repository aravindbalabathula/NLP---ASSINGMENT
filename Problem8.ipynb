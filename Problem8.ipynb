{
 "cells": [
  {
   "cell_type": "markdown",
   "id": "0dbc2e4e-f050-4551-baa5-9a2721c04235",
   "metadata": {},
   "source": [
    "# Correct the Search Query\n"
   ]
  },
  {
   "cell_type": "code",
   "execution_count": 1,
   "id": "1b2fa73c-5ec8-465c-b0c3-385b8a307d6f",
   "metadata": {},
   "outputs": [
    {
     "name": "stdin",
     "output_type": "stream",
     "text": [
      "Enter the number of queries:  2\n",
      "Enter a query:  af asdf asdf\n",
      "Enter a query:  the well wishr\n"
     ]
    },
    {
     "name": "stdout",
     "output_type": "stream",
     "text": [
      "\n",
      "Corrected Queries:\n",
      "af asdf asdf\n",
      "the well wishr\n"
     ]
    }
   ],
   "source": [
    "import re\n",
    "from difflib import get_close_matches\n",
    "\n",
    "# Build a dictionary of valid words (can be extended with a larger corpus)\n",
    "def build_word_dictionary():\n",
    "    # Example dictionary of common words (replace with a larger corpus for better accuracy)\n",
    "    words = [\n",
    "        \"going\", \"to\", \"china\", \"who\", \"was\", \"the\", \"first\", \"president\", \"of\", \"india\", \n",
    "        \"winner\", \"match\", \"food\", \"in\", \"america\"\n",
    "    ]\n",
    "    return set(words)\n",
    "\n",
    "def correct_word(word, word_dict):\n",
    "    \"\"\"Correct a single word based on the dictionary.\"\"\"\n",
    "    if word in word_dict:\n",
    "        return word  # Word is already correct\n",
    "\n",
    "    # Find the closest matches from the dictionary\n",
    "    suggestions = get_close_matches(word, word_dict, n=1, cutoff=0.8)\n",
    "    if suggestions:\n",
    "        return suggestions[0]  # Return the best match\n",
    "    return word  # Return the original word if no match is found\n",
    "\n",
    "def correct_query(query, word_dict):\n",
    "    \"\"\"Correct a query by fixing misspelled words.\"\"\"\n",
    "    words = query.split()\n",
    "    corrected_words = [correct_word(word, word_dict) for word in words]\n",
    "    return \" \".join(corrected_words)\n",
    "\n",
    "def main():\n",
    "    # Build the word dictionary\n",
    "    word_dict = build_word_dictionary()\n",
    "\n",
    "    # Prompt the user for input\n",
    "    n = int(input(\"Enter the number of queries: \"))\n",
    "    queries = []\n",
    "    for _ in range(n):\n",
    "        queries.append(input(\"Enter a query: \"))\n",
    "\n",
    "    # Process and correct each query\n",
    "    corrected_queries = [correct_query(query, word_dict) for query in queries]\n",
    "\n",
    "    # Output the corrected queries\n",
    "    print(\"\\nCorrected Queries:\")\n",
    "    for corrected_query in corrected_queries:\n",
    "        print(corrected_query)\n",
    "\n",
    "if __name__ == \"__main__\":\n",
    "    main()\n"
   ]
  },
  {
   "cell_type": "code",
   "execution_count": null,
   "id": "933d8871-1e47-4953-a749-798d88a07338",
   "metadata": {},
   "outputs": [],
   "source": []
  }
 ],
 "metadata": {
  "kernelspec": {
   "display_name": "Python 3 (ipykernel)",
   "language": "python",
   "name": "python3"
  },
  "language_info": {
   "codemirror_mode": {
    "name": "ipython",
    "version": 3
   },
   "file_extension": ".py",
   "mimetype": "text/x-python",
   "name": "python",
   "nbconvert_exporter": "python",
   "pygments_lexer": "ipython3",
   "version": "3.11.9"
  }
 },
 "nbformat": 4,
 "nbformat_minor": 5
}
