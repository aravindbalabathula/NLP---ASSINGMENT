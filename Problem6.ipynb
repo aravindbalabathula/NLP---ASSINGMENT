{
 "cells": [
  {
   "cell_type": "markdown",
   "id": "4ede0289-b586-4782-b594-afd261d1d2bc",
   "metadata": {},
   "source": [
    "# Segment the Twitter Hashtags\n"
   ]
  },
  {
   "cell_type": "code",
   "execution_count": 6,
   "id": "28cd5291-25e0-4ff9-8606-9333f4e9ebe7",
   "metadata": {},
   "outputs": [
    {
     "name": "stdout",
     "output_type": "stream",
     "text": [
      "Error: Invalid input. invalid literal for int() with base 10: 'w'\n"
     ]
    }
   ],
   "source": [
    "import sys\n",
    "\n",
    "# Example dictionary of common words\n",
    "DICTIONARY = set([\n",
    "    \"we\", \"are\", \"the\", \"people\", \"mention\", \"your\", \"faves\", \"now\", \n",
    "    \"playing\", \"the\", \"walking\", \"dead\", \"follow\", \"me\"\n",
    "])\n",
    "\n",
    "# Function to segment a single hashtag\n",
    "def segment_hashtag(hashtag):\n",
    "    n = len(hashtag)\n",
    "    dp = [None] * (n + 1)  # dp[i] stores the best segmentation of the first i characters\n",
    "    dp[0] = \"\"  # Base case: empty string\n",
    "\n",
    "    for i in range(1, n + 1):\n",
    "        for j in range(i):\n",
    "            word = hashtag[j:i]\n",
    "            if word in DICTIONARY and dp[j] is not None:\n",
    "                # If the word is valid and there's a valid segmentation up to j\n",
    "                segmented = (dp[j] + \" \" + word).strip()\n",
    "                if dp[i] is None or len(segmented.split()) > len(dp[i].split()):\n",
    "                    dp[i] = segmented\n",
    "\n",
    "    return dp[n] if dp[n] else hashtag  # Return original hashtag if no segmentation found\n",
    "\n",
    "# Process input\n",
    "def main():\n",
    "    # Validate and process input\n",
    "    try:\n",
    "        input_data = \"wearethe\"\n",
    "        if not input_data or len(input_data[0].strip()) == 0:\n",
    "            print(\"Error: No input provided.\")\n",
    "            return\n",
    "        n = int(input_data[0].strip())  # First line is the number of hashtags\n",
    "        hashtags = input_data[1:]\n",
    "\n",
    "        if len(hashtags) != n:\n",
    "            print(\"Error: Number of hashtags does not match the input count.\")\n",
    "            return\n",
    "\n",
    "        # Segment each hashtag\n",
    "        results = [segment_hashtag(hashtag) for hashtag in hashtags]\n",
    "\n",
    "        # Output results\n",
    "        for result in results:\n",
    "            print(result)\n",
    "\n",
    "    except ValueError as e:\n",
    "        print(f\"Error: Invalid input. {e}\")\n",
    "\n",
    "# Run the program\n",
    "if __name__ == \"__main__\":\n",
    "    main()\n"
   ]
  },
  {
   "cell_type": "code",
   "execution_count": null,
   "id": "2fa9bc9d-b5d0-4fcc-b816-a98ce2763b3f",
   "metadata": {},
   "outputs": [],
   "source": []
  }
 ],
 "metadata": {
  "kernelspec": {
   "display_name": "Python 3 (ipykernel)",
   "language": "python",
   "name": "python3"
  },
  "language_info": {
   "codemirror_mode": {
    "name": "ipython",
    "version": 3
   },
   "file_extension": ".py",
   "mimetype": "text/x-python",
   "name": "python",
   "nbconvert_exporter": "python",
   "pygments_lexer": "ipython3",
   "version": "3.11.9"
  }
 },
 "nbformat": 4,
 "nbformat_minor": 5
}
